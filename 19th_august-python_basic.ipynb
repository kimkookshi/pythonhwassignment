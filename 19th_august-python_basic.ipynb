{
 "cells": [
  {
   "cell_type": "code",
   "execution_count": 2,
   "id": "85124922-2b23-404a-b5af-00dfca49048b",
   "metadata": {},
   "outputs": [
    {
     "name": "stdout",
     "output_type": "stream",
     "text": [
      "before swapping the values are 10 and 20\n",
      "the values after swapping are  20 and 10\n"
     ]
    }
   ],
   "source": [
    "x=10\n",
    "y=20\n",
    "print(\"before swapping the values are\", x, \"and\", y)\n",
    "x,y=y,x\n",
    "print(\"the values after swapping are \", x, \"and\", y)\n"
   ]
  },
  {
   "cell_type": "code",
   "execution_count": 3,
   "id": "2e1e01ee-d9a1-4680-8161-fd712f94a272",
   "metadata": {},
   "outputs": [
    {
     "name": "stdin",
     "output_type": "stream",
     "text": [
      "length of rectangle 23\n",
      "width of rectangle 12\n"
     ]
    },
    {
     "name": "stdout",
     "output_type": "stream",
     "text": [
      "area of rectangle is 276\n"
     ]
    }
   ],
   "source": [
    "length=int(input(\"length of rectangle\"))\n",
    "width=int(input(\"width of rectangle\"))\n",
    "rect=length*width\n",
    "print(\"area of rectangle is\",rect)"
   ]
  },
  {
   "cell_type": "code",
   "execution_count": 5,
   "id": "c9fcc99b-3047-4f01-ab25-1f57390ff7e4",
   "metadata": {},
   "outputs": [
    {
     "name": "stdin",
     "output_type": "stream",
     "text": [
      "enter temperature in celsius 23\n"
     ]
    },
    {
     "name": "stdout",
     "output_type": "stream",
     "text": [
      "the temperature in fahrenheit is 73.4\n"
     ]
    }
   ],
   "source": [
    "celsius=int(input(\"enter temperature in celsius\"))\n",
    "fah=(celsius*9/5)+32\n",
    "print(\"the temperature in fahrenheit is\",fah)"
   ]
  },
  {
   "cell_type": "code",
   "execution_count": 6,
   "id": "7807b11b-0865-4fe0-8d0d-158ee177a12c",
   "metadata": {},
   "outputs": [
    {
     "name": "stdin",
     "output_type": "stream",
     "text": [
      "enter the string sree\n"
     ]
    },
    {
     "data": {
      "text/plain": [
       "4"
      ]
     },
     "execution_count": 6,
     "metadata": {},
     "output_type": "execute_result"
    }
   ],
   "source": [
    "st=input(\"enter the string\")\n",
    "len(st)"
   ]
  },
  {
   "cell_type": "code",
   "execution_count": 7,
   "id": "85e2135e-6600-42a0-a792-c6e48d809f52",
   "metadata": {},
   "outputs": [
    {
     "name": "stdin",
     "output_type": "stream",
     "text": [
      "enter sentence ssforever\n"
     ]
    },
    {
     "name": "stdout",
     "output_type": "stream",
     "text": [
      "3\n"
     ]
    }
   ],
   "source": [
    "st3= input(\"enter sentence\")\n",
    "print(sum(st3.count(vow) for vow in \"aeiou\"))"
   ]
  },
  {
   "cell_type": "code",
   "execution_count": 8,
   "id": "884301dd-cfd0-4b38-a26e-1d649a201c29",
   "metadata": {},
   "outputs": [
    {
     "name": "stdin",
     "output_type": "stream",
     "text": [
      "enter any sentence sreeran\n"
     ]
    },
    {
     "data": {
      "text/plain": [
       "'nareers'"
      ]
     },
     "execution_count": 8,
     "metadata": {},
     "output_type": "execute_result"
    }
   ],
   "source": [
    "abc=input(\"enter any sentence\")\n",
    "abc[::-1]\n"
   ]
  },
  {
   "cell_type": "code",
   "execution_count": 10,
   "id": "835ef742-5b3f-44f1-9bee-d50be99dd017",
   "metadata": {},
   "outputs": [
    {
     "name": "stdin",
     "output_type": "stream",
     "text": [
      "enter any sentence malayalam\n"
     ]
    },
    {
     "name": "stdout",
     "output_type": "stream",
     "text": [
      "palindrome\n"
     ]
    }
   ],
   "source": [
    "palin=input(\"enter any sentence\")\n",
    "if (palin[::-1]==palin):\n",
    "    print(\"palindrome\")\n",
    "else:\n",
    "    print(\"not a plaindrome\")\n",
    "    "
   ]
  },
  {
   "cell_type": "code",
   "execution_count": 15,
   "id": "f43b52f8-fb96-4fd3-a8ff-992caf52eeb1",
   "metadata": {},
   "outputs": [
    {
     "name": "stdin",
     "output_type": "stream",
     "text": [
      "enter string sree ranjini\n"
     ]
    },
    {
     "name": "stdout",
     "output_type": "stream",
     "text": [
      "string without spaces sreeranjini\n"
     ]
    }
   ],
   "source": [
    "stri = input(\"enter string\")\n",
    "newstri = ''.join(stri.split())\n",
    "print(\"string without spaces\", newstri)"
   ]
  },
  {
   "cell_type": "code",
   "execution_count": null,
   "id": "b77996c8-037a-4a27-94cd-12901e9f2e06",
   "metadata": {},
   "outputs": [],
   "source": []
  },
  {
   "cell_type": "code",
   "execution_count": null,
   "id": "ac696a76-8c7e-4d4a-a67f-6453c31813a4",
   "metadata": {},
   "outputs": [],
   "source": []
  },
  {
   "cell_type": "code",
   "execution_count": null,
   "id": "d5b122d0-7222-49b3-a9af-3b10acc8ac31",
   "metadata": {},
   "outputs": [],
   "source": []
  },
  {
   "cell_type": "code",
   "execution_count": null,
   "id": "0e4f39cf-44e3-4218-935d-e2980f4f904f",
   "metadata": {},
   "outputs": [],
   "source": []
  },
  {
   "cell_type": "code",
   "execution_count": null,
   "id": "1b1aad15-7f1b-4dd0-a8a9-6fa8202fef6e",
   "metadata": {},
   "outputs": [],
   "source": []
  },
  {
   "cell_type": "code",
   "execution_count": null,
   "id": "1676b1a9-8291-43fb-ad6c-a3a7c24a10e6",
   "metadata": {},
   "outputs": [],
   "source": []
  },
  {
   "cell_type": "code",
   "execution_count": null,
   "id": "cea83a31-300b-4b28-9841-72dbe1781a7b",
   "metadata": {},
   "outputs": [],
   "source": []
  }
 ],
 "metadata": {
  "kernelspec": {
   "display_name": "Python 3 (ipykernel)",
   "language": "python",
   "name": "python3"
  },
  "language_info": {
   "codemirror_mode": {
    "name": "ipython",
    "version": 3
   },
   "file_extension": ".py",
   "mimetype": "text/x-python",
   "name": "python",
   "nbconvert_exporter": "python",
   "pygments_lexer": "ipython3",
   "version": "3.10.8"
  }
 },
 "nbformat": 4,
 "nbformat_minor": 5
}
