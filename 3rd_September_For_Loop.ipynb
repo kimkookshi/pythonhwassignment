{
 "cells": [
  {
   "cell_type": "code",
   "execution_count": 1,
   "id": "ca15cdc2-32f6-497f-8ef3-b1f8e3247171",
   "metadata": {},
   "outputs": [
    {
     "name": "stdout",
     "output_type": "stream",
     "text": [
      "1\n",
      "2\n",
      "3\n",
      "4\n",
      "5\n",
      "6\n",
      "7\n",
      "8\n",
      "9\n",
      "10\n"
     ]
    }
   ],
   "source": [
    "# (que1 Write a Python program to print the numbers from 1 to 10 using a `for` loop \n",
    "for i in range(1,11):\n",
    "    print(i)"
   ]
  },
  {
   "cell_type": "code",
   "execution_count": 7,
   "id": "39ac5bde-4ef5-4d11-bf18-bd17d31449cc",
   "metadata": {},
   "outputs": [
    {
     "name": "stdout",
     "output_type": "stream",
     "text": [
      "15\n"
     ]
    }
   ],
   "source": [
    "lt=[1,2,3,4,5] # (que2) Create a program that calculates the sum of all numbers in a list using a `for` loop.\n",
    "sum1 = 0 \n",
    "for i in lt:\n",
    "    sum1 += i\n",
    "    \n",
    "print(sum1)"
   ]
  },
  {
   "cell_type": "code",
   "execution_count": 6,
   "id": "2596ef55-1539-4d05-9a5c-c304a35a7963",
   "metadata": {},
   "outputs": [
    {
     "name": "stdin",
     "output_type": "stream",
     "text": [
      "enter any string sree\n"
     ]
    },
    {
     "name": "stdout",
     "output_type": "stream",
     "text": [
      "e e r s "
     ]
    }
   ],
   "source": [
    "#(que3 )Write a program to print the characters of a string in reverse order using a `for` loop\n",
    "\n",
    "name=input(\"enter any string\")\n",
    "for i in name[::-1]:\n",
    "        print(i,end=\" \")"
   ]
  },
  {
   "cell_type": "code",
   "execution_count": 10,
   "id": "cf7b4aa2-b2a7-4097-9939-efcb505b9898",
   "metadata": {},
   "outputs": [
    {
     "name": "stdin",
     "output_type": "stream",
     "text": [
      "enter a number 3\n"
     ]
    },
    {
     "name": "stdout",
     "output_type": "stream",
     "text": [
      "6\n"
     ]
    }
   ],
   "source": [
    "# (que 4) Develop a program that finds the factorial of a given number using a `for` loop.\n",
    "fac=1\n",
    "num=int(input(\"enter a number\"))\n",
    "for i in range(1,num+1):\n",
    "    fac=fac*i\n",
    "print(fac)\n",
    "    "
   ]
  },
  {
   "cell_type": "code",
   "execution_count": 12,
   "id": "d297f664-402c-4132-9b62-5b5aa7931e46",
   "metadata": {},
   "outputs": [
    {
     "name": "stdin",
     "output_type": "stream",
     "text": [
      "enter a number for mul 5\n"
     ]
    },
    {
     "name": "stdout",
     "output_type": "stream",
     "text": [
      "5 x 1 = 5\n",
      "5 x 2 = 10\n",
      "5 x 3 = 15\n",
      "5 x 4 = 20\n",
      "5 x 5 = 25\n",
      "5 x 6 = 30\n",
      "5 x 7 = 35\n",
      "5 x 8 = 40\n",
      "5 x 9 = 45\n",
      "5 x 10 = 50\n",
      "5 x 11 = 55\n",
      "5 x 12 = 60\n"
     ]
    }
   ],
   "source": [
    "# (que5) Create a program to print the multiplication table of a given number using a `for` loop\n",
    "\n",
    "num=int(input(\"enter a number for mul\"))\n",
    "for i in range(1,13):\n",
    "    print(num,\"x\",i,\"=\",i*num)\n",
    "          "
   ]
  },
  {
   "cell_type": "code",
   "execution_count": 23,
   "id": "4bef4cff-ee20-4abb-888d-a3926a1088e2",
   "metadata": {},
   "outputs": [
    {
     "name": "stdout",
     "output_type": "stream",
     "text": [
      "4\n",
      "5\n"
     ]
    }
   ],
   "source": [
    "#(que6) Write a program that counts the number of even and odd numbers in a list using a `for` loop.\n",
    "\n",
    "l=[1,2,3,4,5,6,7,8,9]\n",
    "even,odd=0,0\n",
    "for num in l:\n",
    "    if num%2==0:\n",
    "        even=even+1\n",
    "        \n",
    "    else:\n",
    "        odd=odd+1\n",
    "print(even)\n",
    "print(odd)"
   ]
  },
  {
   "cell_type": "code",
   "execution_count": 28,
   "id": "25f6e3dc-9510-4dce-a3e6-4b1399562986",
   "metadata": {},
   "outputs": [
    {
     "name": "stdout",
     "output_type": "stream",
     "text": [
      "square of 1 is 1\n",
      "square of 2 is 4\n",
      "square of 3 is 9\n",
      "square of 4 is 16\n",
      "square of 5 is 25\n"
     ]
    }
   ],
   "source": [
    "#(que7) . Develop a program that prints the squares of numbers from 1 to 5 using a `for` loop.\n",
    "\n",
    "for i in range(1,6):\n",
    "    print(\"square of\",i, \"is\",i**2)\n"
   ]
  },
  {
   "cell_type": "code",
   "execution_count": 2,
   "id": "336198eb-565f-4df9-a2db-bf3fc94e4c32",
   "metadata": {},
   "outputs": [
    {
     "name": "stdin",
     "output_type": "stream",
     "text": [
      "enter a string sree\n"
     ]
    },
    {
     "name": "stdout",
     "output_type": "stream",
     "text": [
      "4\n"
     ]
    }
   ],
   "source": [
    "#(que 8)  Create a program to find the length of a string without using the `len()` function\n",
    "\n",
    "str=input(\"enter a string\")\n",
    "count=0\n",
    "for i in str:\n",
    "    count+=1\n",
    "print(count)"
   ]
  },
  {
   "cell_type": "code",
   "execution_count": 4,
   "id": "5f4c6859-0f00-486c-9862-015c8f6f7995",
   "metadata": {},
   "outputs": [
    {
     "name": "stdout",
     "output_type": "stream",
     "text": [
      "avg is 3.5\n"
     ]
    }
   ],
   "source": [
    "#(que9) Write a program that calculates the average of a list of numbers using a `for` loop.\n",
    "\n",
    "l=[2,3,4,5]\n",
    "sum(l)\n",
    "li=sum(l)/len(l)\n",
    "print(\"avg is\",li)"
   ]
  },
  {
   "cell_type": "code",
   "execution_count": 6,
   "id": "18817d0e-9ab7-4973-9e15-9772ce8d99eb",
   "metadata": {},
   "outputs": [
    {
     "name": "stdout",
     "output_type": "stream",
     "text": [
      "0\n",
      "1\n",
      "1\n",
      "2\n",
      "3\n",
      "5\n",
      "8\n",
      "13\n",
      "21\n",
      "34\n"
     ]
    }
   ],
   "source": [
    " #(que 10) Develop a program that prints the first `n` Fibonacci numbers using a `for` loop.\n",
    "first=0\n",
    "second=1\n",
    "print(first)\n",
    "print(second)\n",
    "for i in range(1,9):\n",
    "    third=first+second\n",
    "    print(third)\n",
    "    first,second=second,third\n",
    "    "
   ]
  },
  {
   "cell_type": "code",
   "execution_count": 8,
   "id": "7d3de765-25d8-4764-a163-db067b02e937",
   "metadata": {},
   "outputs": [
    {
     "data": {
      "text/plain": [
       "{2, 3, 4, 5}"
      ]
     },
     "execution_count": 8,
     "metadata": {},
     "output_type": "execute_result"
    }
   ],
   "source": [
    "#intermediate questions \n",
    "#(que11)Write a program to check if a given list contains any duplicates using a `for` loop\n",
    "\n",
    "l=[2,3,4,5,5,4,3,2]\n",
    "set(l)\n"
   ]
  },
  {
   "cell_type": "code",
   "execution_count": 3,
   "id": "d252f3d1-12b5-40f3-8208-fcd1c231d349",
   "metadata": {},
   "outputs": [
    {
     "name": "stdin",
     "output_type": "stream",
     "text": [
      "enter the lower 1\n",
      "enter the upper 10\n"
     ]
    },
    {
     "name": "stdout",
     "output_type": "stream",
     "text": [
      "the prime num btw 1 and 10 are:\n",
      "2\n",
      "3\n",
      "5\n",
      "7\n"
     ]
    }
   ],
   "source": [
    "#(que12) Create a program that prints the prime numbers in a given range using a `for` loop.\n",
    "lower=int(input(\"enter the lower\"))\n",
    "upper=int(input(\"enter the upper\"))\n",
    "print(\"the prime num btw\",lower,\"and\",upper ,\"are:\")\n",
    "for num in range(lower,upper+1):\n",
    "    if num>1:\n",
    "        for i in range(2,num):\n",
    "            if(num%i)==0:\n",
    "                break\n",
    "        else:\n",
    "            print(num)"
   ]
  },
  {
   "cell_type": "code",
   "execution_count": 7,
   "id": "d9bfb3b3-6978-4f05-b349-556d294f148e",
   "metadata": {},
   "outputs": [
    {
     "name": "stdin",
     "output_type": "stream",
     "text": [
      "enter a string sree\n"
     ]
    },
    {
     "name": "stdout",
     "output_type": "stream",
     "text": [
      "no vowels\n",
      "no vowels\n"
     ]
    },
    {
     "ename": "TypeError",
     "evalue": "'str' object is not callable",
     "output_type": "error",
     "traceback": [
      "\u001b[0;31m---------------------------------------------------------------------------\u001b[0m",
      "\u001b[0;31mTypeError\u001b[0m                                 Traceback (most recent call last)",
      "Cell \u001b[0;32mIn[7], line 7\u001b[0m\n\u001b[1;32m      5\u001b[0m \u001b[38;5;28;01mif\u001b[39;00m i\u001b[38;5;241m==\u001b[39m\u001b[38;5;124m'\u001b[39m\u001b[38;5;124ma\u001b[39m\u001b[38;5;124m'\u001b[39m \u001b[38;5;129;01mor\u001b[39;00m i\u001b[38;5;241m==\u001b[39m\u001b[38;5;124m'\u001b[39m\u001b[38;5;124me\u001b[39m\u001b[38;5;124m'\u001b[39m \u001b[38;5;129;01mor\u001b[39;00m i\u001b[38;5;241m==\u001b[39m\u001b[38;5;124m'\u001b[39m\u001b[38;5;124mi\u001b[39m\u001b[38;5;124m'\u001b[39m \u001b[38;5;129;01mor\u001b[39;00m i\u001b[38;5;241m==\u001b[39m\u001b[38;5;124m'\u001b[39m\u001b[38;5;124mo\u001b[39m\u001b[38;5;124m'\u001b[39m \u001b[38;5;129;01mor\u001b[39;00m i\u001b[38;5;241m==\u001b[39m\u001b[38;5;124m'\u001b[39m\u001b[38;5;124mu\u001b[39m\u001b[38;5;124m'\u001b[39m:\n\u001b[1;32m      6\u001b[0m     count\u001b[38;5;241m+\u001b[39m\u001b[38;5;241m=\u001b[39m\u001b[38;5;241m1\u001b[39m\n\u001b[0;32m----> 7\u001b[0m     \u001b[38;5;28mprint\u001b[39m(\u001b[38;5;241m+\u001b[39m\u001b[38;5;28;43mstr\u001b[39;49m\u001b[43m(\u001b[49m\u001b[43mcount\u001b[49m\u001b[43m)\u001b[49m)\n\u001b[1;32m      8\u001b[0m \u001b[38;5;28;01melse\u001b[39;00m:\n\u001b[1;32m      9\u001b[0m     \u001b[38;5;28mprint\u001b[39m(\u001b[38;5;124m\"\u001b[39m\u001b[38;5;124mno vowels\u001b[39m\u001b[38;5;124m\"\u001b[39m)\n",
      "\u001b[0;31mTypeError\u001b[0m: 'str' object is not callable"
     ]
    }
   ],
   "source": [
    "#(que 13)  Develop a program that counts the number of vowels in a string using a `for` loop\n",
    "str=input(\"enter a string\")\n",
    "str=str.\n",
    "count=0\n",
    "for i in str:\n",
    "    if i=='a' or i=='e' or i=='i' or i=='o' or i=='u':\n",
    "        count+=1\n",
    "        print(+str(count))\n",
    "    else:\n",
    "        print(\"no vowels\")\n"
   ]
  },
  {
   "cell_type": "code",
   "execution_count": 1,
   "id": "e7a54b83-a58a-4732-954a-e55cf4fafb07",
   "metadata": {},
   "outputs": [
    {
     "name": "stdin",
     "output_type": "stream",
     "text": [
      "Enter the string : sudhanshu\n"
     ]
    },
    {
     "name": "stdout",
     "output_type": "stream",
     "text": [
      "Total vowels are :3\n"
     ]
    }
   ],
   "source": [
    "#take user input\n",
    "String = input('Enter the string :')\n",
    "count = 0\n",
    "#to check for less conditions\n",
    "#keep string in lowercase\n",
    "String = String.lower()\n",
    "for i in String:\n",
    "    if i == 'a' or i == 'e' or i == 'i' or i == 'o' or i == 'u':\n",
    "        #if True\n",
    "        count+=1\n",
    "#check if any vowel found\n",
    "if count == 0:\n",
    "    print('No vowels found')\n",
    "else:\n",
    "    print('Total vowels are :' + str(count))"
   ]
  },
  {
   "cell_type": "code",
   "execution_count": 2,
   "id": "8849a6ce-9730-48df-8af8-238b3ef7ccca",
   "metadata": {},
   "outputs": [
    {
     "name": "stdout",
     "output_type": "stream",
     "text": [
      "3\n",
      "8\n",
      "87\n"
     ]
    }
   ],
   "source": [
    "#(que 14). Write a program to find the maximum element in a 2D list using a nested `for` loop.\n",
    "X = [[1,2,3],[7,8,4],[56,34,87]]\n",
    "    \n",
    "for i in range(len(X)):\n",
    "    print(max(X[i])) \n",
    "    "
   ]
  },
  {
   "cell_type": "code",
   "execution_count": 12,
   "id": "8308e0c0-c90b-4472-966c-fa6f92588dd0",
   "metadata": {},
   "outputs": [
    {
     "name": "stdin",
     "output_type": "stream",
     "text": [
      "enter element to be removed 8\n"
     ]
    },
    {
     "name": "stdout",
     "output_type": "stream",
     "text": [
      "element is removed\n",
      "[1, 2, 3, 4, 5, 6, 7, 8, 9]\n"
     ]
    }
   ],
   "source": [
    "#(que 15)5. Create a program that removes all occurrences of a specific element from a list using a `for` loop\n",
    "l=[1,2,3,4,5,6,7,8,9]\n",
    "x=int(input(\"enter element to be removed\"))\n",
    "for x in l:\n",
    "    if x==l:\n",
    "        list.remove(x)\n",
    "print(\"element is removed\")\n",
    "print(l)"
   ]
  },
  {
   "cell_type": "code",
   "execution_count": 15,
   "id": "d297eb24-b0cf-444d-b8c7-4b3d1a6001a8",
   "metadata": {},
   "outputs": [
    {
     "name": "stdout",
     "output_type": "stream",
     "text": [
      "common elements []\n"
     ]
    }
   ],
   "source": [
    "#(que 18)Create a program to print the common elements from two lists using a `for` loop\n",
    "\n",
    "l1=[1,2,3,4]\n",
    "l2=[2,3,4,5]\n",
    "common=[]\n",
    "for i1 in l1:\n",
    "    for i2 in l2:\n",
    "        if l1==l2:\n",
    "            common.append(i1)\n",
    "print(\"common elements\",common)"
   ]
  },
  {
   "cell_type": "code",
   "execution_count": 16,
   "id": "e7d567d6-22e8-4826-a456-41cff4a6f1de",
   "metadata": {},
   "outputs": [
    {
     "name": "stdout",
     "output_type": "stream",
     "text": [
      "GCD of 36 and 60 is 12\n"
     ]
    }
   ],
   "source": [
    "#(que 20)  Write a program to find the greatest common divisor (GCD) of two numbers using a `for` loop.\n",
    "num1 = 36\n",
    "num2 = 60\n",
    "gcd = 1\n",
    "\n",
    "for i in range(1, min(num1, num2)):\n",
    "    if num1 % i == 0 and num2 % i == 0:\n",
    "        gcd = i\n",
    "print(\"GCD of\", num1, \"and\", num2, \"is\", gcd)"
   ]
  },
  {
   "cell_type": "code",
   "execution_count": 1,
   "id": "8b28eaa8-36cc-4ace-812c-ecd8902ac4ff",
   "metadata": {},
   "outputs": [
    {
     "name": "stdout",
     "output_type": "stream",
     "text": [
      "Sum of all elements in given list:  74\n"
     ]
    }
   ],
   "source": [
    "#(que21) Create a program that calculates the sum of the digits of numbers in a list using a list comprehension\n",
    "list1 = [11, 5, 17, 18, 23]\n",
    "total = sum(list1)\n",
    "print(\"Sum of all elements in given list: \", total)"
   ]
  },
  {
   "cell_type": "code",
   "execution_count": 4,
   "id": "51629f1f-8aa2-48f2-a8b0-9372e1801625",
   "metadata": {},
   "outputs": [
    {
     "name": "stdout",
     "output_type": "stream",
     "text": [
      "[1, 2, 3, 4, 5, 6]\n"
     ]
    }
   ],
   "source": [
    "#(que 23)  Develop a program that extracts unique elements from a list and stores them in a new list using a list \n",
    "#comprehension.\n",
    "\n",
    "# Sample list with duplicate elements\n",
    "original_list = [1, 2, 2, 3, 4, 4, 5, 6, 6]\n",
    "\n",
    "# Using a list comprehension to extract unique elements\n",
    "unique_elements = [x for i, x in enumerate(original_list) if x not in original_list[:i]]\n",
    "\n",
    "# Printing the unique elements\n",
    "print(unique_elements)"
   ]
  },
  {
   "cell_type": "code",
   "execution_count": 5,
   "id": "f10e4184-bbc6-45df-9c78-7029a36753ad",
   "metadata": {},
   "outputs": [
    {
     "name": "stdout",
     "output_type": "stream",
     "text": [
      "0 1 2 3 4 5 6 7 8 9 11 22 33 44 55 66 77 88 99 101 111 121 131 141 151 161 171 181 191 202 212 222 232 242 252 262 272 282 292 303 313 323 333 343 353 363 373 383 393 404 414 424 434 444 454 464 474 484 494 505 515 525 535 545 555 565 575 585 595 606 616 626 636 646 656 666 676 686 696 707 717 727 737 747 757 767 777 787 797 808 818 828 838 848 858 868 878 888 898 909 919 929 939 949 959 969 979 989 999 "
     ]
    }
   ],
   "source": [
    "#(que 24)Create a program that generates a list of all palindromic numbers up to a specified limit using a list \n",
    "#comprehension.\n",
    "for i in range(0,1001):\n",
    "    n=str(i)\n",
    "    if n==n[::-1]:\n",
    "        print(i,end=' ')"
   ]
  },
  {
   "cell_type": "code",
   "execution_count": 6,
   "id": "008e3df9-2ef4-4fcb-b83c-de8a8a95fbcb",
   "metadata": {},
   "outputs": [
    {
     "name": "stdout",
     "output_type": "stream",
     "text": [
      "Flatten List: [3, 4, 5, 7, 8, 9, 10]\n"
     ]
    }
   ],
   "source": [
    "#(que 25)Write a program to flatten a nested list using list comprehension.\n",
    "nested_lists = [[3, 4, 5],[ 7, 8, 9, 10]]\n",
    "flat_list = []\n",
    "for x in nested_lists:\n",
    "        for y in x:\n",
    "                flat_list.append(y)\n",
    "print(\"Flatten List:\",flat_list)"
   ]
  },
  {
   "cell_type": "code",
   "execution_count": 1,
   "id": "f7934adc-f88c-45ee-8fb8-22ffcac2d207",
   "metadata": {},
   "outputs": [
    {
     "name": "stdout",
     "output_type": "stream",
     "text": [
      "Original key list is : ['Rash', 'Kil', 'Varsha']\n",
      "Original value list is : [1, 4, 5]\n",
      "Resultant dictionary is : {'Rash': 1, 'Kil': 4, 'Varsha': 5}\n"
     ]
    }
   ],
   "source": [
    "# (que 28)  Write a program that combines two lists into a dictionary using list comprehension\n",
    "\n",
    "\n",
    "test_keys = [\"Rash\", \"Kil\", \"Varsha\"]\n",
    "test_values = [1, 4, 5]\n",
    "print(\"Original key list is : \" + str(test_keys))\n",
    "print(\"Original value list is : \" + str(test_values))\n",
    "res = {}\n",
    "for key in test_keys:\n",
    "    for value in test_values:\n",
    "        res[key] = value\n",
    "        test_values.remove(value)\n",
    "        break \n",
    "print(\"Resultant dictionary is : \" + str(res))"
   ]
  },
  {
   "cell_type": "code",
   "execution_count": 10,
   "id": "1e275af9-4d15-4f5c-8574-f19c77c71553",
   "metadata": {},
   "outputs": [
    {
     "name": "stdout",
     "output_type": "stream",
     "text": [
      "The given string is:\n",
      "W3lc0m3\n",
      "Removing all the characters except digits\n",
      "['3', '0', '3']\n"
     ]
    }
   ],
   "source": [
    "#(que 30) Create a program that removes all non-numeric characters from a list of strings using list comprehension.\n",
    "str1 = \"W3lc0m3\"\n",
    "\n",
    "print(\"The given string is:\")\n",
    "print(str1)\n",
    "\n",
    "print(\"Removing all the characters except digits\")\n",
    "print(list(filter(lambda i: i.isdigit(), str1)))"
   ]
  },
  {
   "cell_type": "code",
   "execution_count": null,
   "id": "1b9293fc-7e6e-4777-8ca6-e0378e9466bd",
   "metadata": {},
   "outputs": [],
   "source": []
  },
  {
   "cell_type": "code",
   "execution_count": 9,
   "id": "ddcb277f-2755-4f1a-84cb-a0092690b05b",
   "metadata": {},
   "outputs": [],
   "source": [
    "#(que 32 ) Create a program that generates a list of all Pythagorean triplets up to a specified limit using list \n",
    "#comprehension\n",
    "\n",
    "def pythagoreanTriplets(limits) :\n",
    "    c, m = 0, 2\n",
    "    while c < limits :     \n",
    "        for n in range(1, m) :\n",
    "            a = m * m - n * n\n",
    "            b = 2 * m * n\n",
    "            c = m * m + n * n \n",
    "            break \n",
    "                \n",
    "            print(a, b, c) \n",
    "        m = m + 1\n",
    "if __name__ == '__main__' :     \n",
    "    limit = 20\n",
    "    pythagoreanTriplets(limit)"
   ]
  },
  {
   "cell_type": "code",
   "execution_count": null,
   "id": "483f3957-a622-47a4-a09a-42daf7ab4e42",
   "metadata": {},
   "outputs": [],
   "source": []
  },
  {
   "cell_type": "code",
   "execution_count": null,
   "id": "6c211c6b-f263-48c8-8fd1-c6775c86df15",
   "metadata": {},
   "outputs": [],
   "source": []
  }
 ],
 "metadata": {
  "kernelspec": {
   "display_name": "Python 3 (ipykernel)",
   "language": "python",
   "name": "python3"
  },
  "language_info": {
   "codemirror_mode": {
    "name": "ipython",
    "version": 3
   },
   "file_extension": ".py",
   "mimetype": "text/x-python",
   "name": "python",
   "nbconvert_exporter": "python",
   "pygments_lexer": "ipython3",
   "version": "3.10.8"
  }
 },
 "nbformat": 4,
 "nbformat_minor": 5
}
