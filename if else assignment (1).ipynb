{
 "cells": [
  {
   "cell_type": "code",
   "execution_count": 2,
   "id": "c64c19eb-47ce-4d9e-b350-327c20695f88",
   "metadata": {},
   "outputs": [
    {
     "name": "stdin",
     "output_type": "stream",
     "text": [
      "enter the number 6\n"
     ]
    },
    {
     "name": "stdout",
     "output_type": "stream",
     "text": [
      "positive number\n"
     ]
    }
   ],
   "source": [
    "#(que 1) Write a Python program to check if a given number is positive or negative\n",
    "num=int(input(\"enter the number\"))\n",
    "if num >0:\n",
    "    print(\"positive number\")    \n",
    "else:\n",
    "    print(\" negative number\")"
   ]
  },
  {
   "cell_type": "code",
   "execution_count": 3,
   "id": "5dbe48dd-8c86-4949-8258-d1f7ec5a14d5",
   "metadata": {},
   "outputs": [
    {
     "name": "stdin",
     "output_type": "stream",
     "text": [
      "enter your age 45\n"
     ]
    },
    {
     "name": "stdout",
     "output_type": "stream",
     "text": [
      "eligible to vote\n"
     ]
    }
   ],
   "source": [
    "#(que 2) Create a program that determines if a person is eligible to vote based on their age.\n",
    "num=int(input(\"enter your age\"))\n",
    "if num >=18:\n",
    "    print(\"eligible to vote\")\n",
    "else:\n",
    "    print(\"not eligible to vote\")"
   ]
  },
  {
   "cell_type": "code",
   "execution_count": 4,
   "id": "29bd7c86-9cf0-4001-a493-b9c326abdb31",
   "metadata": {},
   "outputs": [
    {
     "name": "stdin",
     "output_type": "stream",
     "text": [
      "enter the number 45\n",
      "enter another number 56\n"
     ]
    },
    {
     "name": "stdout",
     "output_type": "stream",
     "text": [
      "num2 is greater\n"
     ]
    }
   ],
   "source": [
    "#(que 3)Develop a program to find the maximum of two numbers using if-else statements\n",
    "num1=int(input(\"enter the number\"))\n",
    "num2=int(input(\"enter another number\"))\n",
    "if num1>num2:\n",
    "    print(\"num1 is greater\")\n",
    "elif num2>num1:\n",
    "    print(\"num2 is greater\")\n",
    "else:\n",
    "    print(\"both number is equal\")"
   ]
  },
  {
   "cell_type": "code",
   "execution_count": 5,
   "id": "596a1b9e-37a0-452c-82d4-b23621b0bb0b",
   "metadata": {},
   "outputs": [
    {
     "name": "stdin",
     "output_type": "stream",
     "text": [
      "enter the year 2004\n"
     ]
    },
    {
     "name": "stdout",
     "output_type": "stream",
     "text": [
      "leap year\n"
     ]
    }
   ],
   "source": [
    "#(que 4)Write a Python script to classify a given year as a leap year or not\n",
    "yr=int(input(\"enter the year\"))\n",
    "if yr%4==0:\n",
    "    print(\"leap year\")\n",
    "else:\n",
    "    print(\"not a leap year\")"
   ]
  },
  {
   "cell_type": "code",
   "execution_count": 17,
   "id": "c494cc61-c03d-4c8f-80cc-c55b3757f6eb",
   "metadata": {},
   "outputs": [
    {
     "name": "stdin",
     "output_type": "stream",
     "text": [
      "enter any string sudh\n"
     ]
    },
    {
     "name": "stdout",
     "output_type": "stream",
     "text": [
      "consonant\n",
      "consonant\n",
      "consonant\n",
      "consonant\n"
     ]
    }
   ],
   "source": [
    "#(que 5)Create a program that checks whether a character is a vowel or a consonant\n",
    "str=input(\"enter any string\")\n",
    "for i in str:\n",
    "    if str in ('a','e','i','o','u'):\n",
    "        print(\"vowel\")\n",
    "    else:\n",
    "        print(\"consonant\")"
   ]
  },
  {
   "cell_type": "code",
   "execution_count": 7,
   "id": "b82875e2-ae38-46ea-a3e7-cce07b606f95",
   "metadata": {},
   "outputs": [
    {
     "name": "stdin",
     "output_type": "stream",
     "text": [
      "enter a number 45\n"
     ]
    },
    {
     "name": "stdout",
     "output_type": "stream",
     "text": [
      "odd number\n"
     ]
    }
   ],
   "source": [
    "#(que 6)  Implement a program to determine whether a given number is even or odd.\n",
    "num=int(input(\"enter a number\"))\n",
    "if num%2==0:\n",
    "    print(\"even number\")\n",
    "else:\n",
    "    print(\"odd number\")"
   ]
  },
  {
   "cell_type": "code",
   "execution_count": 8,
   "id": "d03c2f5a-259f-4125-a12b-5ddab813bc15",
   "metadata": {},
   "outputs": [
    {
     "name": "stdin",
     "output_type": "stream",
     "text": [
      "enter the number 5\n"
     ]
    },
    {
     "name": "stdout",
     "output_type": "stream",
     "text": [
      "abs value is 25\n"
     ]
    }
   ],
   "source": [
    "#(que 7) Write a Python function to calculate the absolute value of a number without using the `abs()` function.\n",
    "num=int(input(\"enter the number\"))\n",
    "ab=num**2\n",
    "print(\"abs value is\",ab)"
   ]
  },
  {
   "cell_type": "code",
   "execution_count": 9,
   "id": "ba29e0bc-1a7c-44cc-b353-2191e7e39e4c",
   "metadata": {},
   "outputs": [
    {
     "name": "stdin",
     "output_type": "stream",
     "text": [
      "enter the 1 number 45\n",
      "enter the 2 number 12\n",
      "enter the 3 number 78\n"
     ]
    },
    {
     "name": "stdout",
     "output_type": "stream",
     "text": [
      "num3 is greater\n"
     ]
    }
   ],
   "source": [
    "#(que 8)  Develop a program that determines the largest of three given numbers using if-else statements\n",
    "\n",
    "num1=int(input(\"enter the 1 number\"))\n",
    "num2=int(input(\"enter the 2 number\"))\n",
    "num3=int(input(\"enter the 3 number\"))\n",
    "if num1 and num2 < num3:\n",
    "    print(\"num3 is greater\")\n",
    "elif num2 and num3 < num1:\n",
    "    print(\"num1 is greater\")\n",
    "else:\n",
    "    print(\"num2 is greater\")"
   ]
  },
  {
   "cell_type": "code",
   "execution_count": 12,
   "id": "90a18075-3240-44ca-9003-62c733814edb",
   "metadata": {},
   "outputs": [
    {
     "name": "stdin",
     "output_type": "stream",
     "text": [
      "enter the string sudhanshu\n"
     ]
    },
    {
     "name": "stdout",
     "output_type": "stream",
     "text": [
      "not a palindrome\n"
     ]
    }
   ],
   "source": [
    "#(que 9) Create a program that checks if a given string is a palindrome.\n",
    "str=(input(\"enter the string\"))\n",
    "if str[::-1]== str:\n",
    "     print(\"it's a palindrome\")\n",
    "else:\n",
    "     print(\"not a palindrome\")"
   ]
  },
  {
   "cell_type": "code",
   "execution_count": 13,
   "id": "ecf3bb96-c878-472e-a7cb-9cf9b9340f77",
   "metadata": {},
   "outputs": [
    {
     "name": "stdin",
     "output_type": "stream",
     "text": [
      "enter the score 87\n"
     ]
    },
    {
     "name": "stdout",
     "output_type": "stream",
     "text": [
      "A\n"
     ]
    }
   ],
   "source": [
    "#(que 10)Write a Python program to calculate the grade based on a student's score.\n",
    "score=int(input(\"enter the score\"))\n",
    "if score >=80:\n",
    "    print(\"A\")\n",
    "elif score >=50:\n",
    "    print(\"B\")\n",
    "else:\n",
    "    print(\"C\")"
   ]
  },
  {
   "cell_type": "code",
   "execution_count": 3,
   "id": "d13ca165-8ecc-4081-a777-c81109b3dd43",
   "metadata": {},
   "outputs": [
    {
     "name": "stdin",
     "output_type": "stream",
     "text": [
      "enter num1 6\n",
      "enter num2 5\n",
      "enter num3 4\n"
     ]
    },
    {
     "name": "stdout",
     "output_type": "stream",
     "text": [
      "-71\n",
      "quadratic eqn is -ve, enter correct value\n"
     ]
    }
   ],
   "source": [
    "#(que 11)Write a program that calculates the roots of a quadratic equation (2nd sheet)\n",
    "import cmath\n",
    "a=int(input(\"enter num1\"))\n",
    "b=int(input(\"enter num2\"))\n",
    "c=int(input(\"enter num3\"))\n",
    "qe=(b**2)-(4*a*c)\n",
    "print(qe)\n",
    "if qe <0:\n",
    "    print(\"quadratic eqn is -ve, enter correct value\")\n",
    "elif qe >0:\n",
    "    print(\"quadratic eqn is +ve\")\n",
    "else:\n",
    "    print(\"quadratic eqn is 0\")"
   ]
  },
  {
   "cell_type": "code",
   "execution_count": 5,
   "id": "a027c47b-7d4b-4e05-a863-758b9817db3e",
   "metadata": {},
   "outputs": [
    {
     "name": "stdin",
     "output_type": "stream",
     "text": [
      "enter number within 1 to 7 2\n"
     ]
    },
    {
     "name": "stdout",
     "output_type": "stream",
     "text": [
      "day is monday\n"
     ]
    }
   ],
   "source": [
    "#(que 12) Create a program that determines the day of the week based on the day number (1-7)  (2 nd sheet)\n",
    "num=int(input(\"enter number within 1 to 7\"))\n",
    "if num==1:\n",
    "    print(\"day is sunday\")\n",
    "elif num==2:\n",
    "    print(\"day is monday\")\n",
    "elif num==3:\n",
    "    print(\"day is tueday\")\n",
    "elif num==4:\n",
    "    print(\"day is wednesday\")\n",
    "elif num==5:\n",
    "    print(\"day is thursday\")\n",
    "elif num==6:\n",
    "    print(\"day is friday\")\n",
    "elif num==7:\n",
    "    print(\"day is saturday\")\n",
    "else:\n",
    "    print(\"enter number within 1 to 7\")"
   ]
  },
  {
   "cell_type": "code",
   "execution_count": 1,
   "id": "5ef70ddc-ec84-4886-a3c5-d5f5c9b907c2",
   "metadata": {},
   "outputs": [
    {
     "name": "stdin",
     "output_type": "stream",
     "text": [
      "enter the number1 34\n",
      "enter the number2 56\n",
      "enter the number3 78\n"
     ]
    },
    {
     "name": "stdout",
     "output_type": "stream",
     "text": [
      "num3 is greater\n"
     ]
    }
   ],
   "source": [
    "#(que 11) Write a program to find the largest among three numbers using nested if-else statements\n",
    "num1=int(input(\"enter the number1\"))\n",
    "num2=int(input(\"enter the number2\"))\n",
    "num3=int(input(\"enter the number3\"))\n",
    "if num1 >num2 and num1>num3:\n",
    "    print(\"num1 is greater\")\n",
    "elif num2 >num1 and num2>num3:\n",
    "    print(\"num2 is greater\")\n",
    "else:\n",
    "    print(\"num3 is greater\")"
   ]
  },
  {
   "cell_type": "code",
   "execution_count": 3,
   "id": "bc7163c1-f38d-45a4-a977-501a209c730b",
   "metadata": {},
   "outputs": [
    {
     "name": "stdin",
     "output_type": "stream",
     "text": [
      "enter 1 side 3\n",
      "enter 2 side 4\n",
      "enter 3 side 5\n"
     ]
    },
    {
     "name": "stdout",
     "output_type": "stream",
     "text": [
      "scalene triangle\n"
     ]
    }
   ],
   "source": [
    "#(que12) Implement a program to determine if a triangle is equilateral, isosceles, or scalene.\n",
    "t1=int(input(\"enter 1 side\"))\n",
    "t2=int(input(\"enter 2 side\"))\n",
    "t3=int(input(\"enter 3 side\"))\n",
    "if t1==t2:\n",
    "    print(\"isosceles triangle\")\n",
    "elif t1==t2 or t2==t3 or t3==t1:\n",
    "    print(\"equilateral triangle\")\n",
    "else:\n",
    "    print(\"scalene triangle\")"
   ]
  },
  {
   "cell_type": "code",
   "execution_count": 7,
   "id": "1c251535-c071-4639-b03c-f8bbfb10d3ec",
   "metadata": {},
   "outputs": [
    {
     "name": "stdin",
     "output_type": "stream",
     "text": [
      "enter your age 19\n"
     ]
    },
    {
     "name": "stdout",
     "output_type": "stream",
     "text": [
      "you are a teenager\n"
     ]
    }
   ],
   "source": [
    "#(que15) 15. Create a program to check if a person is a teenager (between 13 and 19 years old).\n",
    "age=int(input(\"enter your age\"))\n",
    "if age >= 13 and age < 20:\n",
    "    print(\"you are a teenager\")\n",
    "else:\n",
    "    print(\"you are not a teenager\")"
   ]
  },
  {
   "cell_type": "code",
   "execution_count": 2,
   "id": "6a994483-a566-4107-8100-6be510d9333b",
   "metadata": {},
   "outputs": [
    {
     "name": "stdin",
     "output_type": "stream",
     "text": [
      "enter a 34\n",
      "enter b 25\n",
      "enter c 16\n"
     ]
    },
    {
     "name": "stdout",
     "output_type": "stream",
     "text": [
      "negative\n"
     ]
    }
   ],
   "source": [
    "#(que 17). Write a Python program to calculate the roots of a quadratic equation.\n",
    "a=int(input(\"enter a\"))\n",
    "b=int(input(\"enter b\"))\n",
    "c=int(input(\"enter c\"))\n",
    "eq=(b**2)-(4*a*c)\n",
    "if eq<0:\n",
    "    print(\"negative\")\n",
    "elif eq>0:\n",
    "    print(\"positive\")\n",
    "else:\n",
    "    print(\"zero\")"
   ]
  },
  {
   "cell_type": "code",
   "execution_count": 5,
   "id": "5ceae118-a296-4f30-a06f-8115df5913d9",
   "metadata": {},
   "outputs": [
    {
     "ename": "SyntaxError",
     "evalue": "invalid syntax (2822944384.py, line 6)",
     "output_type": "error",
     "traceback": [
      "\u001b[0;36m  Cell \u001b[0;32mIn[5], line 6\u001b[0;36m\u001b[0m\n\u001b[0;31m    elif bmi >18.5 and <=24.9:\u001b[0m\n\u001b[0m                       ^\u001b[0m\n\u001b[0;31mSyntaxError\u001b[0m\u001b[0;31m:\u001b[0m invalid syntax\n"
     ]
    }
   ],
   "source": [
    "weight=float(input(\"enter your weight\"))\n",
    "height=float(input(\"enter your height\"))\n",
    "bmi=weight/height\n",
    "if bmi <18.5:\n",
    "    print(\"under weight\")\n",
    "elif bmi >18.5 and <=24.9:\n",
    "    print(\"normal\")\n",
    "elif bmi >25.0 and <29.9:\n",
    "    print(\"over weight\")\n",
    "else:\n",
    "    print(\"obese\")\n"
   ]
  },
  {
   "cell_type": "code",
   "execution_count": 1,
   "id": "cf13462f-5fa3-4e90-80a9-a861c74d22da",
   "metadata": {},
   "outputs": [
    {
     "name": "stdin",
     "output_type": "stream",
     "text": [
      "enter the sentence sree\n"
     ]
    },
    {
     "name": "stdout",
     "output_type": "stream",
     "text": [
      "sentence is lower cased\n"
     ]
    }
   ],
   "source": [
    "#(que 25)Write a Python script to determine the type of a character (uppercase, lowercase, or special) using elif\n",
    "#statements.\n",
    "\n",
    "word=input(\"enter the sentence\")\n",
    "if(word.islower()):\n",
    "    print(\"sentence is lower cased\")\n",
    "elif(word.isupper()):\n",
    "    print(\"sentence is upper cased\")\n",
    "else:\n",
    "    print(\"sentence has special charecter\")\n"
   ]
  },
  {
   "cell_type": "code",
   "execution_count": 2,
   "id": "a180251b-370d-42e1-9d28-a9d67cab2bca",
   "metadata": {},
   "outputs": [
    {
     "name": "stdin",
     "output_type": "stream",
     "text": [
      "enter first angle 23\n",
      "enter second angle 23\n",
      "enter third angle 34\n"
     ]
    },
    {
     "name": "stdout",
     "output_type": "stream",
     "text": [
      "iscoles triangle\n"
     ]
    }
   ],
   "source": [
    "#(que 28) Create a program to determine the type of quadrilateral based on its angles and sides using elif \n",
    "#statements\n",
    "num1=int(input(\"enter first angle\"))\n",
    "num2=int(input(\"enter second angle\"))\n",
    "num3=int(input(\"enter third angle\"))\n",
    "if (num1==num2 or num2==num3 or num1==num3):\n",
    "    print(\"iscoles triangle\")\n",
    "elif(num1==num2==num3):\n",
    "    print(\"equilateral triangle\")\n",
    "else:\n",
    "    print(\"triangle angles are not same\")"
   ]
  },
  {
   "cell_type": "code",
   "execution_count": 5,
   "id": "9630429d-820f-4f04-978e-8e3a58f7a3ef",
   "metadata": {},
   "outputs": [
    {
     "name": "stdin",
     "output_type": "stream",
     "text": [
      "enter the total amount of your purchase 2500\n",
      "enter the discount for your purchase 5\n"
     ]
    },
    {
     "name": "stdout",
     "output_type": "stream",
     "text": [
      "your discount is 125.0\n",
      "your total amount is 2375.0\n"
     ]
    }
   ],
   "source": [
    " # basic level second page!\n",
    "    #(que 9) Create a program to calculate the total cost of a shopping cart based on discounts\n",
    "total=float(input(\"enter the total amount of your purchase\"))\n",
    "discount=float(input(\"enter the discount for your purchase\"))\n",
    "dis=(total*discount)/100\n",
    "print(\"your discount is\",dis)\n",
    "amt=total-dis\n",
    "print(\"your total amount is\",amt)\n",
    "\n",
    "                  "
   ]
  },
  {
   "cell_type": "code",
   "execution_count": 1,
   "id": "03ab78d3-a306-4412-88b6-2833214c76c3",
   "metadata": {},
   "outputs": [
    {
     "name": "stdin",
     "output_type": "stream",
     "text": [
      "enter your choice 2\n",
      "enter number 1 34\n",
      "enter number 2 34\n"
     ]
    },
    {
     "name": "stdout",
     "output_type": "stream",
     "text": [
      "subraction of numbers is 0.0\n"
     ]
    }
   ],
   "source": [
    "#intermediate level\n",
    "#(que 19) Create a program that simulates a basic calculator for addition, subtraction, multiplication, and division\n",
    "choice=int(input(\"enter your choice\"))\n",
    "if (choice >=1 and choice<=4):\n",
    "    num1=float(input(\"enter number 1\"))\n",
    "    num2=float(input(\"enter number 2\"))\n",
    "    if choice==1:\n",
    "        add=num1+num2\n",
    "        print(\"addition of numbners is\",add)\n",
    "    elif choice==2:\n",
    "        sub=num1-num2\n",
    "        print(\"subraction of numbers is\",sub)\n",
    "    elif choice==3:\n",
    "        mul=num1*num2\n",
    "        print(\"multiplication of numbers is\",mul)\n",
    "    elif choice==4:\n",
    "        div=num1/num2\n",
    "        print(\"division of numbers is\",div)\n",
    "else:\n",
    "    print(\"enter choice within 1 to 4\")\n",
    "    "
   ]
  },
  {
   "cell_type": "code",
   "execution_count": 4,
   "id": "1bf819e3-1b7f-454f-a555-c3c28166357f",
   "metadata": {},
   "outputs": [
    {
     "name": "stdin",
     "output_type": "stream",
     "text": [
      "enter your annual salary 120000\n"
     ]
    },
    {
     "name": "stdout",
     "output_type": "stream",
     "text": [
      "no tax\n"
     ]
    }
   ],
   "source": [
    "#advanced level\n",
    "#(que 21)\n",
    "tax=int(input(\"enter your annual salary\"))\n",
    "if (tax <=2,50,000):\n",
    "    print(\"no tax\")\n",
    "elif(tax <=5,00,000):\n",
    "    print(\"tax rate 5%\")\n",
    "elif(tax <=7,50,000):\n",
    "    print(\"tax rate 10%\")\n",
    "elif(tax <=10,00,000):\n",
    "    print(\"tax rate 20%\")\n",
    "elif(tax <=12,50,000):\n",
    "    print(\"tax rate 25%\")\n",
    "elif(tax <=15,00,000):\n",
    "     print(\"tax rate is 125000+25%\")\n",
    "else:\n",
    "     print(\"tax rate is 30%\") \n",
    "\n"
   ]
  },
  {
   "cell_type": "code",
   "execution_count": null,
   "id": "7cd71a10-1b67-417c-ada6-eca1e53afd52",
   "metadata": {},
   "outputs": [],
   "source": [
    "\n"
   ]
  }
 ],
 "metadata": {
  "kernelspec": {
   "display_name": "Python 3 (ipykernel)",
   "language": "python",
   "name": "python3"
  },
  "language_info": {
   "codemirror_mode": {
    "name": "ipython",
    "version": 3
   },
   "file_extension": ".py",
   "mimetype": "text/x-python",
   "name": "python",
   "nbconvert_exporter": "python",
   "pygments_lexer": "ipython3",
   "version": "3.10.8"
  }
 },
 "nbformat": 4,
 "nbformat_minor": 5
}
