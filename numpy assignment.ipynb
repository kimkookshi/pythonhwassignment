{
 "cells": [
  {
   "cell_type": "markdown",
   "id": "c6a477e3-27d3-41b1-8326-3eb80853c619",
   "metadata": {},
   "source": [
    "Find the shape, size and dimension of the following array?\n",
    "[[1, 2, 3, 4]\n",
    "[5, 6, 7, 8],\n",
    "[9, 10, 11, 12]]"
   ]
  },
  {
   "cell_type": "code",
   "execution_count": 6,
   "id": "fa094d49-37b0-42cf-aaa9-f60220e040d1",
   "metadata": {},
   "outputs": [
    {
     "data": {
      "text/plain": [
       "array([[ 1,  2,  3,  4],\n",
       "       [ 5,  6,  7,  8],\n",
       "       [ 9, 10, 11, 12]])"
      ]
     },
     "execution_count": 6,
     "metadata": {},
     "output_type": "execute_result"
    }
   ],
   "source": [
    "import numpy as np\n",
    "a=np.array([[1, 2, 3, 4],\n",
    "[5, 6, 7, 8],\n",
    "[9, 10, 11, 12]])\n",
    "        \n",
    "a"
   ]
  },
  {
   "cell_type": "code",
   "execution_count": 9,
   "id": "f94626a6-8b01-4dfa-b4d1-39860af76508",
   "metadata": {},
   "outputs": [
    {
     "data": {
      "text/plain": [
       "(3, 4)"
      ]
     },
     "execution_count": 9,
     "metadata": {},
     "output_type": "execute_result"
    }
   ],
   "source": [
    "np.shape(a) # to find shape of an array"
   ]
  },
  {
   "cell_type": "code",
   "execution_count": 11,
   "id": "1309d3a4-ab9c-4afd-8fe4-f274678452ed",
   "metadata": {},
   "outputs": [
    {
     "data": {
      "text/plain": [
       "2"
      ]
     },
     "execution_count": 11,
     "metadata": {},
     "output_type": "execute_result"
    }
   ],
   "source": [
    "np.ndim(a) # to find the dimention of an array"
   ]
  },
  {
   "cell_type": "code",
   "execution_count": 13,
   "id": "9bff09ef-4a15-4eeb-b989-30ad2dd5ced1",
   "metadata": {},
   "outputs": [
    {
     "data": {
      "text/plain": [
       "12"
      ]
     },
     "execution_count": 13,
     "metadata": {},
     "output_type": "execute_result"
    }
   ],
   "source": [
    "np.size(a) #to find the size of an array"
   ]
  },
  {
   "cell_type": "markdown",
   "id": "8f7e8036-21e8-4ae1-87cc-82be1757cbab",
   "metadata": {},
   "source": [
    "Write python code to access the first row of the following array?\n",
    "[[1, 2, 3, 4]\n",
    "[5, 6, 7, 8],\n",
    "[9, 10, 11, 12]]\n"
   ]
  },
  {
   "cell_type": "code",
   "execution_count": 17,
   "id": "dca1a974-5928-4767-826e-e4366ff767af",
   "metadata": {},
   "outputs": [
    {
     "data": {
      "text/plain": [
       "array([1, 2, 3, 4])"
      ]
     },
     "execution_count": 17,
     "metadata": {},
     "output_type": "execute_result"
    }
   ],
   "source": [
    "import numpy as np\n",
    "b=np.array([[1,2,3,4],[5,6,7,8],[9,10,11,12]])\n",
    "b[0]           #we accessed the 1st row"
   ]
  },
  {
   "cell_type": "markdown",
   "id": "27a81da3-3794-4f8d-8b69-bdad7b893c56",
   "metadata": {},
   "source": [
    "5. How do you access the element at the third row and fourth column from the given numpy array?\n",
    "[[1, 2, 3, 4]\n",
    "[5, 6, 7, 8],\n",
    "[9, 10, 11, 12]]"
   ]
  },
  {
   "cell_type": "code",
   "execution_count": 18,
   "id": "0b43ee07-6857-4fac-b656-d3ceae290a67",
   "metadata": {},
   "outputs": [
    {
     "data": {
      "text/plain": [
       "12"
      ]
     },
     "execution_count": 18,
     "metadata": {},
     "output_type": "execute_result"
    }
   ],
   "source": [
    "import numpy as np\n",
    "c=np.array([[1, 2, 3, 4], [5, 6, 7, 8], [9, 10, 11, 12]])\n",
    "c[2][3]"
   ]
  },
  {
   "cell_type": "markdown",
   "id": "ada4d9c6-2028-445a-9079-1c7f42196a73",
   "metadata": {},
   "source": [
    "6. Write code to extract all odd-indexed elements from the given numpy array?\n",
    "[[1, 2, 3, 4]\n",
    "[5, 6, 7, 8],\n",
    "[9, 10, 11, 12]]"
   ]
  },
  {
   "cell_type": "code",
   "execution_count": 21,
   "id": "3198dd85-ebde-4967-85d3-49b9e0f57e6a",
   "metadata": {},
   "outputs": [
    {
     "data": {
      "text/plain": [
       "array([ 2,  4,  6,  8, 10, 12])"
      ]
     },
     "execution_count": 21,
     "metadata": {},
     "output_type": "execute_result"
    }
   ],
   "source": [
    "import numpy as np\n",
    "d=np.array( [[1, 2, 3, 4],[5, 6, 7, 8], [9, 10, 11, 12]])\n",
    "d[:,1::2].flatten()"
   ]
  },
  {
   "cell_type": "markdown",
   "id": "40fc52bc-674b-4c8d-ac09-fbb9cf0c2a64",
   "metadata": {},
   "source": [
    "7. How can you generate a random 3x3 matrix with values between 0 and 1?\n"
   ]
  },
  {
   "cell_type": "code",
   "execution_count": 28,
   "id": "f83f9d53-c1bc-4d46-9ea0-d7e758a1b7ee",
   "metadata": {},
   "outputs": [
    {
     "data": {
      "text/plain": [
       "array([[0.70781666, 0.96125247, 0.6184828 ],\n",
       "       [0.47771728, 0.35459035, 0.24430854],\n",
       "       [0.91964571, 0.48637903, 0.24715865]])"
      ]
     },
     "execution_count": 28,
     "metadata": {},
     "output_type": "execute_result"
    }
   ],
   "source": [
    "import numpy as np\n",
    "a=np.random.rand(3,3)\n",
    "a"
   ]
  },
  {
   "cell_type": "markdown",
   "id": "e2ff873f-b7d0-40c2-bbb9-02884ee5c944",
   "metadata": {},
   "source": [
    "9. Write code to increase the dimension of the following array?\n",
    "[[1, 2, 3, 4]\n",
    "[5, 6, 7, 8],\n",
    "[9, 10, 11, 12]]"
   ]
  },
  {
   "cell_type": "code",
   "execution_count": 32,
   "id": "40dba2fe-fe30-4957-bde3-0038048b5673",
   "metadata": {},
   "outputs": [
    {
     "data": {
      "text/plain": [
       "array([[[ 1,  2,  3,  4],\n",
       "        [ 5,  6,  7,  8],\n",
       "        [ 9, 10, 11, 12]]])"
      ]
     },
     "execution_count": 32,
     "metadata": {},
     "output_type": "execute_result"
    }
   ],
   "source": [
    "import numpy as np\n",
    "a=np.array([[1, 2, 3, 4], [5, 6, 7, 8], [9, 10, 11, 12]])\n",
    "b=np.expand_dims(a,axis=0)\n",
    "b"
   ]
  },
  {
   "cell_type": "markdown",
   "id": "96562d9b-aa29-4f8d-84e0-faf73e7b3f7a",
   "metadata": {},
   "source": [
    "10. How to transpose the following array in NumPy?\n",
    "[[1, 2, 3, 4]\n",
    "[5, 6, 7, 8],\n",
    "[9, 10, 11, 12]]"
   ]
  },
  {
   "cell_type": "code",
   "execution_count": 34,
   "id": "6527855f-2478-4c41-9092-9df323ebc771",
   "metadata": {},
   "outputs": [
    {
     "data": {
      "text/plain": [
       "array([[ 1,  5,  9],\n",
       "       [ 2,  6, 10],\n",
       "       [ 3,  7, 11],\n",
       "       [ 4,  8, 12]])"
      ]
     },
     "execution_count": 34,
     "metadata": {},
     "output_type": "execute_result"
    }
   ],
   "source": [
    "import numpy as np\n",
    "a=np.array([[1, 2, 3, 4], [5, 6, 7, 8], [9, 10, 11, 12]])\n",
    "a=a.T\n",
    "a"
   ]
  },
  {
   "cell_type": "markdown",
   "id": "c93b2564-9e41-41ec-aa91-a61c049474b8",
   "metadata": {},
   "source": [
    "11. Consider the following matrix:\n",
    "Matrix A2 [[1, 2, 3, 4] [5, 6, 7, 8],[9, 10, 11, 12]]\n",
    "Matrix B2 [[1, 2, 3, 4] [5, 6, 7, 8],[9, 10, 11, 12]]"
   ]
  },
  {
   "cell_type": "code",
   "execution_count": 36,
   "id": "31f37f04-d9c5-4556-b7be-4accf5fe2ed2",
   "metadata": {},
   "outputs": [
    {
     "data": {
      "text/plain": [
       "array([[  1,   4,   9,  16],\n",
       "       [ 25,  36,  49,  64],\n",
       "       [ 81, 100, 121, 144]])"
      ]
     },
     "execution_count": 36,
     "metadata": {},
     "output_type": "execute_result"
    }
   ],
   "source": [
    "import numpy as np        #index wise multiplication\n",
    "a=np.array( [[1, 2, 3, 4], [5, 6, 7, 8],[9, 10, 11, 12]])\n",
    "b=np.array([[1, 2, 3, 4] ,[5, 6, 7, 8],[9, 10, 11, 12]])\n",
    "a*b"
   ]
  },
  {
   "cell_type": "code",
   "execution_count": 39,
   "id": "7d4b0e0c-448d-4aa3-898d-f9ed22d5b492",
   "metadata": {},
   "outputs": [
    {
     "data": {
      "text/plain": [
       "array([[ 30,  70, 110],\n",
       "       [ 70, 174, 278],\n",
       "       [110, 278, 446]])"
      ]
     },
     "execution_count": 39,
     "metadata": {},
     "output_type": "execute_result"
    }
   ],
   "source": [
    "#matrix multiplication\n",
    "import numpy as np \n",
    "a=np.array( [[1, 2, 3, 4], [5, 6, 7, 8],[9, 10, 11, 12]])\n",
    "b=np.array([[1, 2, 3, 4] ,[5, 6, 7, 8],[9, 10, 11, 12]])\n",
    "result=np.dot(a,b.T)\n",
    "result2=a@b.T\n",
    "result"
   ]
  },
  {
   "cell_type": "code",
   "execution_count": 40,
   "id": "30935e73-dc50-4c0e-8cd6-0d78817ead86",
   "metadata": {},
   "outputs": [
    {
     "data": {
      "text/plain": [
       "array([[ 2,  4,  6,  8],\n",
       "       [10, 12, 14, 16],\n",
       "       [18, 20, 22, 24]])"
      ]
     },
     "execution_count": 40,
     "metadata": {},
     "output_type": "execute_result"
    }
   ],
   "source": [
    "#add both the matrics\n",
    "import numpy as np \n",
    "a=np.array( [[1, 2, 3, 4], [5, 6, 7, 8],[9, 10, 11, 12]])\n",
    "b=np.array([[1, 2, 3, 4] ,[5, 6, 7, 8],[9, 10, 11, 12]])\n",
    "a+b"
   ]
  },
  {
   "cell_type": "code",
   "execution_count": 41,
   "id": "280c2ac0-af6f-4939-9da1-d576a9a7fa9b",
   "metadata": {},
   "outputs": [
    {
     "data": {
      "text/plain": [
       "array([[0, 0, 0, 0],\n",
       "       [0, 0, 0, 0],\n",
       "       [0, 0, 0, 0]])"
      ]
     },
     "execution_count": 41,
     "metadata": {},
     "output_type": "execute_result"
    }
   ],
   "source": [
    "#sub matrix b from a\n",
    "import numpy as np \n",
    "a=np.array( [[1, 2, 3, 4], [5, 6, 7, 8],[9, 10, 11, 12]])\n",
    "b=np.array([[1, 2, 3, 4] ,[5, 6, 7, 8],[9, 10, 11, 12]])\n",
    "b-a"
   ]
  },
  {
   "cell_type": "code",
   "execution_count": 42,
   "id": "2ef21797-ccc7-4e57-9d21-cd2872cc11fa",
   "metadata": {},
   "outputs": [
    {
     "data": {
      "text/plain": [
       "array([[1., 1., 1., 1.],\n",
       "       [1., 1., 1., 1.],\n",
       "       [1., 1., 1., 1.]])"
      ]
     },
     "execution_count": 42,
     "metadata": {},
     "output_type": "execute_result"
    }
   ],
   "source": [
    "#divide matrix b from a\n",
    "import numpy as np \n",
    "a=np.array( [[1, 2, 3, 4], [5, 6, 7, 8],[9, 10, 11, 12]])\n",
    "b=np.array([[1, 2, 3, 4] ,[5, 6, 7, 8],[9, 10, 11, 12]])\n",
    "b/a"
   ]
  },
  {
   "cell_type": "code",
   "execution_count": null,
   "id": "ceaadd82-15eb-40af-8afa-b2a5470694b8",
   "metadata": {},
   "outputs": [],
   "source": [
    "\n",
    "\n"
   ]
  },
  {
   "cell_type": "code",
   "execution_count": null,
   "id": "c647acee-59f6-4239-8e17-ee980f036095",
   "metadata": {},
   "outputs": [],
   "source": []
  }
 ],
 "metadata": {
  "kernelspec": {
   "display_name": "Python 3 (ipykernel)",
   "language": "python",
   "name": "python3"
  },
  "language_info": {
   "codemirror_mode": {
    "name": "ipython",
    "version": 3
   },
   "file_extension": ".py",
   "mimetype": "text/x-python",
   "name": "python",
   "nbconvert_exporter": "python",
   "pygments_lexer": "ipython3",
   "version": "3.10.8"
  }
 },
 "nbformat": 4,
 "nbformat_minor": 5
}
