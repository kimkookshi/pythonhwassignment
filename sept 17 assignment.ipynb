{
 "cells": [
  {
   "cell_type": "code",
   "execution_count": 3,
   "id": "471204da-b39f-4290-8d60-66a5ba467194",
   "metadata": {},
   "outputs": [
    {
     "name": "stdout",
     "output_type": "stream",
     "text": [
      "1\n",
      "2\n",
      "3\n",
      "4\n",
      "5\n",
      "6\n",
      "7\n",
      "8\n",
      "9\n",
      "10\n"
     ]
    }
   ],
   "source": [
    "#for loop (que 1)\n",
    "#Write a Python program to print numbers from 1 to 10 using a for loop\n",
    "\n",
    "for i in range(1,11):\n",
    "    print(i)\n"
   ]
  },
  {
   "cell_type": "code",
   "execution_count": 3,
   "id": "9c86b116-c845-431c-a2b0-9e3b5061d8c6",
   "metadata": {},
   "outputs": [],
   "source": [
    "#if else\n",
    "# Write a Python program to determine if a given number is prime or not using if-else.(que 24)\n",
    "\n",
    "\n",
    "n = 5\n",
    "\n",
    "# Check if the number is greater than 1\n",
    "\n",
    "if n > 1:\n",
    "\tfor i in range(2, int(n/2)+1):\n",
    "\t\tif (n % i) == 0:\n",
    "\t\t\tprint(num, \"is not a prime number\")\n",
    "\t\tbreak\n",
    "\telse:\n",
    "\t\tprint(n, \"is a prime number\")\n",
    "# If the number is less than 1, its also not a prime number.\n",
    "else:\n",
    "    print(n, \"is not a prime number\")"
   ]
  },
  {
   "cell_type": "code",
   "execution_count": 1,
   "id": "22e22da6-1e25-4bfc-b6d9-6411675554ab",
   "metadata": {},
   "outputs": [],
   "source": [
    "# map function (que1)\n",
    "#Explain the purpose of the `map()` function in Python and provide an example\n",
    "#of how it can be used to apply a function to each element of an iterable.\n",
    "\n",
    "#syntax\n",
    "def make_even(num):\n",
    "    if num%2==1:\n",
    "        return num+1\n",
    "    else:\n",
    "        return num\n",
    "x=[551,641,891]\n",
    "        \n",
    "    \n"
   ]
  },
  {
   "cell_type": "code",
   "execution_count": 5,
   "id": "cae9db0e-c4ff-4bef-8c4f-da8e2f60e9ec",
   "metadata": {},
   "outputs": [],
   "source": [
    "#Write a Python program that uses the `map()` function to square each element of a list of numbers. (que 2)\n",
    "\n",
    "def sum(num):\n",
    "    return n*n\n",
    "    num=[5,8,9]\n",
    "    map(sum,num)\n",
    "    print(\"numbers before squaring is\", num)\n",
    "    print(\"numbers after squaring is\", list(map))"
   ]
  },
  {
   "cell_type": "code",
   "execution_count": 1,
   "id": "252547d3-0601-4f05-993e-54948c7540aa",
   "metadata": {},
   "outputs": [
    {
     "data": {
      "text/plain": [
       "['A', 'B', 'C']"
      ]
     },
     "execution_count": 1,
     "metadata": {},
     "output_type": "execute_result"
    }
   ],
   "source": [
    "#Create a Python program that uses the `map()` function to convert a list of names to uppercase.(que 4)\n",
    "list(map(lambda x: x.upper(), [\"a\", \"b\", \"c\"]))\n"
   ]
  },
  {
   "cell_type": "code",
   "execution_count": 4,
   "id": "da13d0b1-8be8-423f-b0a8-4882511f6614",
   "metadata": {},
   "outputs": [],
   "source": [
    "#Write a Python program that uses the `map()` function to calculate the length of each word in a list of strings.(que 5)\n",
    "\n",
    "def word(a):\n",
    "    b=input(\"enter any word\")\n",
    "    c=list(map(word,len(b)))\n",
    "    print(\"answer is\", c)\n",
    "    "
   ]
  },
  {
   "cell_type": "code",
   "execution_count": 1,
   "id": "2499df3f-ba70-46e9-a200-826009c7e2d8",
   "metadata": {},
   "outputs": [
    {
     "name": "stdout",
     "output_type": "stream",
     "text": [
      "9\n"
     ]
    }
   ],
   "source": [
    "#Reduce function\n",
    "#Create a Python program that uses `reduce()` to find the maximum element in a list of numbers.(que 3)\n",
    "\n",
    "from functools import reduce \n",
    "ele=[2,4,6,9]\n",
    "print(reduce(max,ele))\n",
    "\n",
    "\n"
   ]
  },
  {
   "cell_type": "code",
   "execution_count": 3,
   "id": "11fdff3a-a9f3-4e33-ae91-0212b621e2ae",
   "metadata": {},
   "outputs": [],
   "source": [
    "#Write a Python program that calculates the factorial of a number using the `reduce()` function.(que 5)\n",
    "import functools \n",
    "def mul(x,y):\n",
    "    return x*y\n",
    "def factorial(n):\n",
    "    if n==0:\n",
    "        return 1\n",
    "    else:\n",
    "        functools.reduce(mult(n,factorial(n-1)))\n",
    "    \n"
   ]
  },
  {
   "cell_type": "code",
   "execution_count": 3,
   "id": "4e7d55d6-428b-43d0-97de-3e95188f0e4a",
   "metadata": {},
   "outputs": [
    {
     "name": "stdout",
     "output_type": "stream",
     "text": [
      "120\n"
     ]
    }
   ],
   "source": [
    "#Write a Python program that uses the `reduce()` function to find the product of all elements in a list.\n",
    "from functools import reduce \n",
    "def multiply(a,b):\n",
    "    return a*b\n",
    "num=[2,3,4,5]\n",
    "value=reduce(multiply,num)\n",
    "print(value)\n"
   ]
  },
  {
   "cell_type": "code",
   "execution_count": 4,
   "id": "8bf7d626-56c3-40f4-ab98-16f6e7f6e472",
   "metadata": {},
   "outputs": [
    {
     "name": "stdout",
     "output_type": "stream",
     "text": [
      "9\n"
     ]
    }
   ],
   "source": [
    "#Create a Python program that uses `reduce()` to find the maximum element in a list of numbers.\n",
    "from functools import reduce \n",
    "def max_find(x,y):\n",
    "    return x if x>y else y\n",
    "val=[1,2,3,4,5,6,7,8,9]\n",
    "ans=reduce(max_find,val)\n",
    "print(ans)\n"
   ]
  },
  {
   "cell_type": "code",
   "execution_count": 5,
   "id": "2a2969dd-23cb-45c0-9645-814bd0e5aede",
   "metadata": {},
   "outputs": [
    {
     "name": "stdout",
     "output_type": "stream",
     "text": [
      "hello,howareyou\n"
     ]
    }
   ],
   "source": [
    "#How can you use the `reduce()` function to concatenate a list of strings into a single string?\n",
    "from functools import reduce\n",
    "string=[\"hello\",\",\",\"how\",\"are\",\"you\"]\n",
    "def concadenation_string(x,y):\n",
    "    return x+y\n",
    "coc=reduce(concadenation_string,string)\n",
    "print(coc)"
   ]
  },
  {
   "cell_type": "code",
   "execution_count": 3,
   "id": "131586bb-8582-4737-ad10-5211aff84dd7",
   "metadata": {},
   "outputs": [
    {
     "name": "stdin",
     "output_type": "stream",
     "text": [
      "enter a num 5\n"
     ]
    },
    {
     "name": "stdout",
     "output_type": "stream",
     "text": [
      "the factorial of 5 is: 120\n"
     ]
    }
   ],
   "source": [
    "#Write a Python program that calculates the factorial of a number using the `reduce()` function\n",
    "from functools import reduce\n",
    "def multiply(x,y):\n",
    "    return x*y\n",
    "def factorial(n):\n",
    "    return reduce(multiply,range(1,n+1))\n",
    "num=int(input(\"enter a num\"))\n",
    "if num<0:\n",
    "    print(\"number should be greater than 0\")\n",
    "else:\n",
    "    result=factorial(num)\n",
    "    print(f\"the factorial of {num} is: {result}\")\n"
   ]
  },
  {
   "cell_type": "code",
   "execution_count": 2,
   "id": "2f548a99-92bd-44c6-890a-130a76cd3edf",
   "metadata": {},
   "outputs": [
    {
     "name": "stdout",
     "output_type": "stream",
     "text": [
      "[2, 4, 6, 8]\n"
     ]
    }
   ],
   "source": [
    "#filter function\n",
    "#Explain the purpose of the `filter()` function in Python and provide an example of how it can be used to filter elements from an iterable\n",
    "numbers=[1,2,3,4,5,6,7,8,9]\n",
    "def even(x):\n",
    "    return x%2==0\n",
    "ans=list(filter(even,numbers))\n",
    "print(ans)"
   ]
  },
  {
   "cell_type": "code",
   "execution_count": 1,
   "id": "89b666c7-ddda-4bc5-b129-d6bcbf51728f",
   "metadata": {},
   "outputs": [
    {
     "name": "stdout",
     "output_type": "stream",
     "text": [
      "the list of non values: [1, 9, 10]\n"
     ]
    }
   ],
   "source": [
    "#How can you use the `filter()` function to remove None values from a list in Python?\n",
    "num=[1,None,9,None,10]\n",
    "def remove(x):\n",
    "    return x is not None\n",
    "val=list(filter(remove,num))\n",
    "print(\"the list of non values:\",val)\n",
    "\n"
   ]
  },
  {
   "cell_type": "code",
   "execution_count": null,
   "id": "7271fdd1-26e9-4f97-9f47-403b5ed350cc",
   "metadata": {},
   "outputs": [],
   "source": []
  }
 ],
 "metadata": {
  "kernelspec": {
   "display_name": "Python 3 (ipykernel)",
   "language": "python",
   "name": "python3"
  },
  "language_info": {
   "codemirror_mode": {
    "name": "ipython",
    "version": 3
   },
   "file_extension": ".py",
   "mimetype": "text/x-python",
   "name": "python",
   "nbconvert_exporter": "python",
   "pygments_lexer": "ipython3",
   "version": "3.10.8"
  }
 },
 "nbformat": 4,
 "nbformat_minor": 5
}
